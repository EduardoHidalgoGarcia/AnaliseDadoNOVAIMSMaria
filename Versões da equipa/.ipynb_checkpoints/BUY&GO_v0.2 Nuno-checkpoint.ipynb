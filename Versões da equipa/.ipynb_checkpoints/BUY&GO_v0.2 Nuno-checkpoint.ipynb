{
 "cells": [
  {
   "cell_type": "markdown",
   "metadata": {},
   "source": [
    "<a id=\"logo\"></a>\n",
    "![NOVA IMS LOGO](https://www.novaims.unl.pt/images/logo.png)"
   ]
  },
  {
   "cell_type": "markdown",
   "metadata": {},
   "source": [
    "# Steps\n",
    "- Data Import\n",
    "- Data Exploration\n",
    "    - Numeric vs Categorical\n",
    "    - Types\n",
    "    - Statistics\n",
    "    - Typos and Missing Values\n",
    "- Data Cleaning\n",
    "    - Typos\n",
    "    - Missing Values\n",
    "        - Median\n",
    "        - kNN\n",
    "        - Median/Mean after \"Sub\" k-Means ?? \n",
    "- Data Transformation\n",
    "    - Categorical - Nominal to Ordinal\n",
    "    - Normalization\n",
    "    - New Variables\n",
    "- Data Reduction\n",
    "    - PCA\n",
    "- Data Clustering\n",
    "    - k-Means\n",
    "    - SOM"
   ]
  },
  {
   "cell_type": "markdown",
   "metadata": {},
   "source": [
    "<a id=\"toc\"></a>\n",
    "### Table of Contents (ToC)\n",
    "- [1. Data Import](#import)\n",
    "- [2. Data Exploration](#explore)\n",
    "- [3. Data Cleaning](#clean)\n",
    "- [4. Data Transformation](#transform)\n",
    "- [5. Data Reduction](#reduce)\n",
    "- [6. Data Clustering](#cluster)"
   ]
  },
  {
   "cell_type": "markdown",
   "metadata": {},
   "source": [
    "<a id=\"import\"></a>\n",
    "\n",
    "# 1. Data Import\n",
    "[back to ToC](#toc)"
   ]
  },
  {
   "cell_type": "code",
   "execution_count": 1,
   "metadata": {},
   "outputs": [],
   "source": [
    "import pandas as pd\n",
    "import matplotlib.pyplot as plt"
   ]
  },
  {
   "cell_type": "code",
   "execution_count": 2,
   "metadata": {},
   "outputs": [],
   "source": [
    "df_demographic = pd.read_excel(\"demographic.xlsx\")"
   ]
  },
  {
   "cell_type": "markdown",
   "metadata": {},
   "source": [
    "<a id=\"explore\"></a>\n",
    "\n",
    "# 2. Data Exploration\n",
    "[back to ToC](#toc)"
   ]
  },
  {
   "cell_type": "code",
   "execution_count": 3,
   "metadata": {},
   "outputs": [
    {
     "data": {
      "text/html": [
       "<div>\n",
       "<style scoped>\n",
       "    .dataframe tbody tr th:only-of-type {\n",
       "        vertical-align: middle;\n",
       "    }\n",
       "\n",
       "    .dataframe tbody tr th {\n",
       "        vertical-align: top;\n",
       "    }\n",
       "\n",
       "    .dataframe thead th {\n",
       "        text-align: right;\n",
       "    }\n",
       "</style>\n",
       "<table border=\"1\" class=\"dataframe\">\n",
       "  <thead>\n",
       "    <tr style=\"text-align: right;\">\n",
       "      <th></th>\n",
       "      <th>Card_ID</th>\n",
       "      <th>Name</th>\n",
       "      <th>Year_Birth</th>\n",
       "      <th>Education</th>\n",
       "      <th>Marital_Status</th>\n",
       "      <th>Income</th>\n",
       "      <th>Kidhome</th>\n",
       "      <th>Teenhome</th>\n",
       "      <th>Region</th>\n",
       "      <th>Country</th>\n",
       "    </tr>\n",
       "  </thead>\n",
       "  <tbody>\n",
       "    <tr>\n",
       "      <th>0</th>\n",
       "      <td>10003075</td>\n",
       "      <td>Mr. Adam Glover</td>\n",
       "      <td>1981</td>\n",
       "      <td>Master</td>\n",
       "      <td>Together</td>\n",
       "      <td>90782.0</td>\n",
       "      <td>0</td>\n",
       "      <td>0</td>\n",
       "      <td>Cork</td>\n",
       "      <td>Ireland</td>\n",
       "    </tr>\n",
       "    <tr>\n",
       "      <th>1</th>\n",
       "      <td>10003076</td>\n",
       "      <td>Mr. Cameron McDonald</td>\n",
       "      <td>1993</td>\n",
       "      <td>PhD</td>\n",
       "      <td>Single</td>\n",
       "      <td>113023.0</td>\n",
       "      <td>0</td>\n",
       "      <td>0</td>\n",
       "      <td>Kinsale</td>\n",
       "      <td>Ireland</td>\n",
       "    </tr>\n",
       "    <tr>\n",
       "      <th>2</th>\n",
       "      <td>10003078</td>\n",
       "      <td>Mr. Keith Davidson</td>\n",
       "      <td>1982</td>\n",
       "      <td>PhD</td>\n",
       "      <td>Single</td>\n",
       "      <td>93571.0</td>\n",
       "      <td>0</td>\n",
       "      <td>1</td>\n",
       "      <td>Cork</td>\n",
       "      <td>Ireland</td>\n",
       "    </tr>\n",
       "    <tr>\n",
       "      <th>3</th>\n",
       "      <td>10003079</td>\n",
       "      <td>Mr. Alexander Gill</td>\n",
       "      <td>1978</td>\n",
       "      <td>PhD</td>\n",
       "      <td>Single</td>\n",
       "      <td>91852.0</td>\n",
       "      <td>0</td>\n",
       "      <td>1</td>\n",
       "      <td>Kinsale</td>\n",
       "      <td>Ireland</td>\n",
       "    </tr>\n",
       "    <tr>\n",
       "      <th>4</th>\n",
       "      <td>10003080</td>\n",
       "      <td>Mr. Neil Piper</td>\n",
       "      <td>1968</td>\n",
       "      <td>PhD</td>\n",
       "      <td>Married</td>\n",
       "      <td>22386.0</td>\n",
       "      <td>1</td>\n",
       "      <td>1</td>\n",
       "      <td>Cork</td>\n",
       "      <td>Ireland</td>\n",
       "    </tr>\n",
       "  </tbody>\n",
       "</table>\n",
       "</div>"
      ],
      "text/plain": [
       "    Card_ID                  Name  Year_Birth Education Marital_Status  \\\n",
       "0  10003075       Mr. Adam Glover        1981    Master       Together   \n",
       "1  10003076  Mr. Cameron McDonald        1993       PhD         Single   \n",
       "2  10003078    Mr. Keith Davidson        1982       PhD         Single   \n",
       "3  10003079    Mr. Alexander Gill        1978       PhD         Single   \n",
       "4  10003080        Mr. Neil Piper        1968       PhD        Married   \n",
       "\n",
       "     Income  Kidhome  Teenhome   Region  Country  \n",
       "0   90782.0        0         0     Cork  Ireland  \n",
       "1  113023.0        0         0  Kinsale  Ireland  \n",
       "2   93571.0        0         1     Cork  Ireland  \n",
       "3   91852.0        0         1  Kinsale  Ireland  \n",
       "4   22386.0        1         1     Cork  Ireland  "
      ]
     },
     "execution_count": 3,
     "metadata": {},
     "output_type": "execute_result"
    }
   ],
   "source": [
    "df_demographic.head()"
   ]
  },
  {
   "cell_type": "code",
   "execution_count": 4,
   "metadata": {},
   "outputs": [
    {
     "name": "stdout",
     "output_type": "stream",
     "text": [
      "<class 'pandas.core.frame.DataFrame'>\n",
      "RangeIndex: 5005 entries, 0 to 5004\n",
      "Data columns (total 10 columns):\n",
      " #   Column          Non-Null Count  Dtype  \n",
      "---  ------          --------------  -----  \n",
      " 0   Card_ID         5005 non-null   int64  \n",
      " 1   Name            5004 non-null   object \n",
      " 2   Year_Birth      5005 non-null   int64  \n",
      " 3   Education       5005 non-null   object \n",
      " 4   Marital_Status  5005 non-null   object \n",
      " 5   Income          4953 non-null   float64\n",
      " 6   Kidhome         5005 non-null   int64  \n",
      " 7   Teenhome        5005 non-null   int64  \n",
      " 8   Region          5005 non-null   object \n",
      " 9   Country         5005 non-null   object \n",
      "dtypes: float64(1), int64(4), object(5)\n",
      "memory usage: 391.1+ KB\n"
     ]
    }
   ],
   "source": [
    "df_demographic.info()"
   ]
  },
  {
   "cell_type": "code",
   "execution_count": 5,
   "metadata": {},
   "outputs": [
    {
     "data": {
      "text/html": [
       "<div>\n",
       "<style scoped>\n",
       "    .dataframe tbody tr th:only-of-type {\n",
       "        vertical-align: middle;\n",
       "    }\n",
       "\n",
       "    .dataframe tbody tr th {\n",
       "        vertical-align: top;\n",
       "    }\n",
       "\n",
       "    .dataframe thead th {\n",
       "        text-align: right;\n",
       "    }\n",
       "</style>\n",
       "<table border=\"1\" class=\"dataframe\">\n",
       "  <thead>\n",
       "    <tr style=\"text-align: right;\">\n",
       "      <th></th>\n",
       "      <th>Card_ID</th>\n",
       "      <th>Name</th>\n",
       "      <th>Year_Birth</th>\n",
       "      <th>Education</th>\n",
       "      <th>Marital_Status</th>\n",
       "      <th>Income</th>\n",
       "      <th>Kidhome</th>\n",
       "      <th>Teenhome</th>\n",
       "      <th>Region</th>\n",
       "      <th>Country</th>\n",
       "    </tr>\n",
       "  </thead>\n",
       "  <tbody>\n",
       "    <tr>\n",
       "      <th>5000</th>\n",
       "      <td>10013025</td>\n",
       "      <td>Mr. Andrew Mackay</td>\n",
       "      <td>1963</td>\n",
       "      <td>Graduation</td>\n",
       "      <td>Single</td>\n",
       "      <td>51062.0</td>\n",
       "      <td>0</td>\n",
       "      <td>1</td>\n",
       "      <td>Killarney</td>\n",
       "      <td>Ireland</td>\n",
       "    </tr>\n",
       "    <tr>\n",
       "      <th>5001</th>\n",
       "      <td>10013026</td>\n",
       "      <td>Mr. Steven Blake</td>\n",
       "      <td>1984</td>\n",
       "      <td>Graduation</td>\n",
       "      <td>Married</td>\n",
       "      <td>47363.0</td>\n",
       "      <td>1</td>\n",
       "      <td>0</td>\n",
       "      <td>Kinsale</td>\n",
       "      <td>Ireland</td>\n",
       "    </tr>\n",
       "    <tr>\n",
       "      <th>5002</th>\n",
       "      <td>10013028</td>\n",
       "      <td>Miss Ruth Jackson</td>\n",
       "      <td>1973</td>\n",
       "      <td>PhD</td>\n",
       "      <td>Married</td>\n",
       "      <td>79525.0</td>\n",
       "      <td>0</td>\n",
       "      <td>1</td>\n",
       "      <td>Killarney</td>\n",
       "      <td>Ireland</td>\n",
       "    </tr>\n",
       "    <tr>\n",
       "      <th>5003</th>\n",
       "      <td>10013029</td>\n",
       "      <td>Mrs. Gabrielle Lawrence</td>\n",
       "      <td>1978</td>\n",
       "      <td>PhD</td>\n",
       "      <td>Divorced</td>\n",
       "      <td>122087.0</td>\n",
       "      <td>0</td>\n",
       "      <td>0</td>\n",
       "      <td>Kinsale</td>\n",
       "      <td>Ireland</td>\n",
       "    </tr>\n",
       "    <tr>\n",
       "      <th>5004</th>\n",
       "      <td>10013030</td>\n",
       "      <td>Mrs. Yvonne Slater</td>\n",
       "      <td>1979</td>\n",
       "      <td>Graduation</td>\n",
       "      <td>Together</td>\n",
       "      <td>61469.0</td>\n",
       "      <td>1</td>\n",
       "      <td>1</td>\n",
       "      <td>Killarney</td>\n",
       "      <td>Ireland</td>\n",
       "    </tr>\n",
       "  </tbody>\n",
       "</table>\n",
       "</div>"
      ],
      "text/plain": [
       "       Card_ID                     Name  Year_Birth   Education  \\\n",
       "5000  10013025        Mr. Andrew Mackay        1963  Graduation   \n",
       "5001  10013026         Mr. Steven Blake        1984  Graduation   \n",
       "5002  10013028        Miss Ruth Jackson        1973         PhD   \n",
       "5003  10013029  Mrs. Gabrielle Lawrence        1978         PhD   \n",
       "5004  10013030       Mrs. Yvonne Slater        1979  Graduation   \n",
       "\n",
       "     Marital_Status    Income  Kidhome  Teenhome     Region  Country  \n",
       "5000         Single   51062.0        0         1  Killarney  Ireland  \n",
       "5001        Married   47363.0        1         0    Kinsale  Ireland  \n",
       "5002        Married   79525.0        0         1  Killarney  Ireland  \n",
       "5003       Divorced  122087.0        0         0    Kinsale  Ireland  \n",
       "5004       Together   61469.0        1         1  Killarney  Ireland  "
      ]
     },
     "execution_count": 5,
     "metadata": {},
     "output_type": "execute_result"
    }
   ],
   "source": [
    "df_demographic[df_demographic.Card_ID.duplicated()]"
   ]
  },
  {
   "cell_type": "code",
   "execution_count": 6,
   "metadata": {},
   "outputs": [
    {
     "data": {
      "text/plain": [
       "[10013025, 10013026, 10013028, 10013029, 10013030]"
      ]
     },
     "execution_count": 6,
     "metadata": {},
     "output_type": "execute_result"
    }
   ],
   "source": [
    "list(df_demographic[df_demographic.Card_ID.duplicated()].Card_ID)"
   ]
  },
  {
   "cell_type": "code",
   "execution_count": 7,
   "metadata": {},
   "outputs": [
    {
     "data": {
      "text/html": [
       "<div>\n",
       "<style scoped>\n",
       "    .dataframe tbody tr th:only-of-type {\n",
       "        vertical-align: middle;\n",
       "    }\n",
       "\n",
       "    .dataframe tbody tr th {\n",
       "        vertical-align: top;\n",
       "    }\n",
       "\n",
       "    .dataframe thead th {\n",
       "        text-align: right;\n",
       "    }\n",
       "</style>\n",
       "<table border=\"1\" class=\"dataframe\">\n",
       "  <thead>\n",
       "    <tr style=\"text-align: right;\">\n",
       "      <th></th>\n",
       "      <th>Card_ID</th>\n",
       "      <th>Name</th>\n",
       "      <th>Year_Birth</th>\n",
       "      <th>Education</th>\n",
       "      <th>Marital_Status</th>\n",
       "      <th>Income</th>\n",
       "      <th>Kidhome</th>\n",
       "      <th>Teenhome</th>\n",
       "      <th>Region</th>\n",
       "      <th>Country</th>\n",
       "    </tr>\n",
       "  </thead>\n",
       "  <tbody>\n",
       "    <tr>\n",
       "      <th>4970</th>\n",
       "      <td>10013025</td>\n",
       "      <td>Mr. Andrew Mackay</td>\n",
       "      <td>1963</td>\n",
       "      <td>Graduation</td>\n",
       "      <td>Single</td>\n",
       "      <td>51062.0</td>\n",
       "      <td>0</td>\n",
       "      <td>1</td>\n",
       "      <td>Killarney</td>\n",
       "      <td>Ireland</td>\n",
       "    </tr>\n",
       "    <tr>\n",
       "      <th>5000</th>\n",
       "      <td>10013025</td>\n",
       "      <td>Mr. Andrew Mackay</td>\n",
       "      <td>1963</td>\n",
       "      <td>Graduation</td>\n",
       "      <td>Single</td>\n",
       "      <td>51062.0</td>\n",
       "      <td>0</td>\n",
       "      <td>1</td>\n",
       "      <td>Killarney</td>\n",
       "      <td>Ireland</td>\n",
       "    </tr>\n",
       "    <tr>\n",
       "      <th>4971</th>\n",
       "      <td>10013026</td>\n",
       "      <td>Mr. Steven Blake</td>\n",
       "      <td>1984</td>\n",
       "      <td>Graduation</td>\n",
       "      <td>Married</td>\n",
       "      <td>47363.0</td>\n",
       "      <td>1</td>\n",
       "      <td>0</td>\n",
       "      <td>Kinsale</td>\n",
       "      <td>Ireland</td>\n",
       "    </tr>\n",
       "    <tr>\n",
       "      <th>5001</th>\n",
       "      <td>10013026</td>\n",
       "      <td>Mr. Steven Blake</td>\n",
       "      <td>1984</td>\n",
       "      <td>Graduation</td>\n",
       "      <td>Married</td>\n",
       "      <td>47363.0</td>\n",
       "      <td>1</td>\n",
       "      <td>0</td>\n",
       "      <td>Kinsale</td>\n",
       "      <td>Ireland</td>\n",
       "    </tr>\n",
       "    <tr>\n",
       "      <th>4972</th>\n",
       "      <td>10013028</td>\n",
       "      <td>Miss Ruth Jackson</td>\n",
       "      <td>1973</td>\n",
       "      <td>PhD</td>\n",
       "      <td>Married</td>\n",
       "      <td>79525.0</td>\n",
       "      <td>0</td>\n",
       "      <td>1</td>\n",
       "      <td>Killarney</td>\n",
       "      <td>Ireland</td>\n",
       "    </tr>\n",
       "    <tr>\n",
       "      <th>5002</th>\n",
       "      <td>10013028</td>\n",
       "      <td>Miss Ruth Jackson</td>\n",
       "      <td>1973</td>\n",
       "      <td>PhD</td>\n",
       "      <td>Married</td>\n",
       "      <td>79525.0</td>\n",
       "      <td>0</td>\n",
       "      <td>1</td>\n",
       "      <td>Killarney</td>\n",
       "      <td>Ireland</td>\n",
       "    </tr>\n",
       "    <tr>\n",
       "      <th>4973</th>\n",
       "      <td>10013029</td>\n",
       "      <td>Mrs. Gabrielle Lawrence</td>\n",
       "      <td>1978</td>\n",
       "      <td>PhD</td>\n",
       "      <td>Divorced</td>\n",
       "      <td>122087.0</td>\n",
       "      <td>0</td>\n",
       "      <td>0</td>\n",
       "      <td>Kinsale</td>\n",
       "      <td>Ireland</td>\n",
       "    </tr>\n",
       "    <tr>\n",
       "      <th>5003</th>\n",
       "      <td>10013029</td>\n",
       "      <td>Mrs. Gabrielle Lawrence</td>\n",
       "      <td>1978</td>\n",
       "      <td>PhD</td>\n",
       "      <td>Divorced</td>\n",
       "      <td>122087.0</td>\n",
       "      <td>0</td>\n",
       "      <td>0</td>\n",
       "      <td>Kinsale</td>\n",
       "      <td>Ireland</td>\n",
       "    </tr>\n",
       "    <tr>\n",
       "      <th>4974</th>\n",
       "      <td>10013030</td>\n",
       "      <td>Mrs. Yvonne Slater</td>\n",
       "      <td>1979</td>\n",
       "      <td>Graduation</td>\n",
       "      <td>Together</td>\n",
       "      <td>61469.0</td>\n",
       "      <td>1</td>\n",
       "      <td>1</td>\n",
       "      <td>Killarney</td>\n",
       "      <td>Ireland</td>\n",
       "    </tr>\n",
       "    <tr>\n",
       "      <th>5004</th>\n",
       "      <td>10013030</td>\n",
       "      <td>Mrs. Yvonne Slater</td>\n",
       "      <td>1979</td>\n",
       "      <td>Graduation</td>\n",
       "      <td>Together</td>\n",
       "      <td>61469.0</td>\n",
       "      <td>1</td>\n",
       "      <td>1</td>\n",
       "      <td>Killarney</td>\n",
       "      <td>Ireland</td>\n",
       "    </tr>\n",
       "  </tbody>\n",
       "</table>\n",
       "</div>"
      ],
      "text/plain": [
       "       Card_ID                     Name  Year_Birth   Education  \\\n",
       "4970  10013025        Mr. Andrew Mackay        1963  Graduation   \n",
       "5000  10013025        Mr. Andrew Mackay        1963  Graduation   \n",
       "4971  10013026         Mr. Steven Blake        1984  Graduation   \n",
       "5001  10013026         Mr. Steven Blake        1984  Graduation   \n",
       "4972  10013028        Miss Ruth Jackson        1973         PhD   \n",
       "5002  10013028        Miss Ruth Jackson        1973         PhD   \n",
       "4973  10013029  Mrs. Gabrielle Lawrence        1978         PhD   \n",
       "5003  10013029  Mrs. Gabrielle Lawrence        1978         PhD   \n",
       "4974  10013030       Mrs. Yvonne Slater        1979  Graduation   \n",
       "5004  10013030       Mrs. Yvonne Slater        1979  Graduation   \n",
       "\n",
       "     Marital_Status    Income  Kidhome  Teenhome     Region  Country  \n",
       "4970         Single   51062.0        0         1  Killarney  Ireland  \n",
       "5000         Single   51062.0        0         1  Killarney  Ireland  \n",
       "4971        Married   47363.0        1         0    Kinsale  Ireland  \n",
       "5001        Married   47363.0        1         0    Kinsale  Ireland  \n",
       "4972        Married   79525.0        0         1  Killarney  Ireland  \n",
       "5002        Married   79525.0        0         1  Killarney  Ireland  \n",
       "4973       Divorced  122087.0        0         0    Kinsale  Ireland  \n",
       "5003       Divorced  122087.0        0         0    Kinsale  Ireland  \n",
       "4974       Together   61469.0        1         1  Killarney  Ireland  \n",
       "5004       Together   61469.0        1         1  Killarney  Ireland  "
      ]
     },
     "execution_count": 7,
     "metadata": {},
     "output_type": "execute_result"
    }
   ],
   "source": [
    "df_demographic[\n",
    "    df_demographic.Card_ID.isin(\n",
    "        list(df_demographic[\n",
    "            df_demographic.Card_ID.duplicated()\n",
    "        ].Card_ID)\n",
    "    )\n",
    "].sort_values(\"Card_ID\")"
   ]
  },
  {
   "cell_type": "code",
   "execution_count": 8,
   "metadata": {},
   "outputs": [],
   "source": [
    "df_demographic.drop_duplicates(subset=\"Card_ID\", keep=\"first\", inplace=True)"
   ]
  },
  {
   "cell_type": "code",
   "execution_count": 9,
   "metadata": {},
   "outputs": [
    {
     "name": "stdout",
     "output_type": "stream",
     "text": [
      "<class 'pandas.core.frame.DataFrame'>\n",
      "Int64Index: 5000 entries, 0 to 4999\n",
      "Data columns (total 10 columns):\n",
      " #   Column          Non-Null Count  Dtype  \n",
      "---  ------          --------------  -----  \n",
      " 0   Card_ID         5000 non-null   int64  \n",
      " 1   Name            4999 non-null   object \n",
      " 2   Year_Birth      5000 non-null   int64  \n",
      " 3   Education       5000 non-null   object \n",
      " 4   Marital_Status  5000 non-null   object \n",
      " 5   Income          4948 non-null   float64\n",
      " 6   Kidhome         5000 non-null   int64  \n",
      " 7   Teenhome        5000 non-null   int64  \n",
      " 8   Region          5000 non-null   object \n",
      " 9   Country         5000 non-null   object \n",
      "dtypes: float64(1), int64(4), object(5)\n",
      "memory usage: 429.7+ KB\n"
     ]
    }
   ],
   "source": [
    "df_demographic.info()"
   ]
  },
  {
   "cell_type": "markdown",
   "metadata": {},
   "source": [
    "- Há um missing value no nome\n",
    "- Os nomes per-si não servem para nada\n",
    "- Vou criar uma variável para o géneno a partir de Mr.Mrs.Miss"
   ]
  },
  {
   "cell_type": "code",
   "execution_count": 12,
   "metadata": {},
   "outputs": [
    {
     "data": {
      "text/html": [
       "<div>\n",
       "<style scoped>\n",
       "    .dataframe tbody tr th:only-of-type {\n",
       "        vertical-align: middle;\n",
       "    }\n",
       "\n",
       "    .dataframe tbody tr th {\n",
       "        vertical-align: top;\n",
       "    }\n",
       "\n",
       "    .dataframe thead th {\n",
       "        text-align: right;\n",
       "    }\n",
       "</style>\n",
       "<table border=\"1\" class=\"dataframe\">\n",
       "  <thead>\n",
       "    <tr style=\"text-align: right;\">\n",
       "      <th></th>\n",
       "      <th>Card_ID</th>\n",
       "      <th>Year_Birth</th>\n",
       "      <th>Income</th>\n",
       "      <th>Kidhome</th>\n",
       "      <th>Teenhome</th>\n",
       "    </tr>\n",
       "  </thead>\n",
       "  <tbody>\n",
       "    <tr>\n",
       "      <th>count</th>\n",
       "      <td>5.000000e+03</td>\n",
       "      <td>5000.000000</td>\n",
       "      <td>4948.000000</td>\n",
       "      <td>5000.000000</td>\n",
       "      <td>5000.000000</td>\n",
       "    </tr>\n",
       "    <tr>\n",
       "      <th>mean</th>\n",
       "      <td>1.000809e+07</td>\n",
       "      <td>1973.806600</td>\n",
       "      <td>69614.564198</td>\n",
       "      <td>0.440600</td>\n",
       "      <td>0.493600</td>\n",
       "    </tr>\n",
       "    <tr>\n",
       "      <th>std</th>\n",
       "      <td>2.912058e+03</td>\n",
       "      <td>11.870138</td>\n",
       "      <td>28953.396355</td>\n",
       "      <td>0.538265</td>\n",
       "      <td>0.546643</td>\n",
       "    </tr>\n",
       "    <tr>\n",
       "      <th>min</th>\n",
       "      <td>1.000308e+07</td>\n",
       "      <td>1946.000000</td>\n",
       "      <td>2195.800000</td>\n",
       "      <td>0.000000</td>\n",
       "      <td>-1.000000</td>\n",
       "    </tr>\n",
       "    <tr>\n",
       "      <th>25%</th>\n",
       "      <td>1.000560e+07</td>\n",
       "      <td>1964.000000</td>\n",
       "      <td>47075.500000</td>\n",
       "      <td>0.000000</td>\n",
       "      <td>0.000000</td>\n",
       "    </tr>\n",
       "    <tr>\n",
       "      <th>50%</th>\n",
       "      <td>1.000809e+07</td>\n",
       "      <td>1975.000000</td>\n",
       "      <td>69427.000000</td>\n",
       "      <td>0.000000</td>\n",
       "      <td>0.000000</td>\n",
       "    </tr>\n",
       "    <tr>\n",
       "      <th>75%</th>\n",
       "      <td>1.001062e+07</td>\n",
       "      <td>1983.000000</td>\n",
       "      <td>92119.750000</td>\n",
       "      <td>1.000000</td>\n",
       "      <td>1.000000</td>\n",
       "    </tr>\n",
       "    <tr>\n",
       "      <th>max</th>\n",
       "      <td>1.001307e+07</td>\n",
       "      <td>2002.000000</td>\n",
       "      <td>187314.450000</td>\n",
       "      <td>2.000000</td>\n",
       "      <td>2.000000</td>\n",
       "    </tr>\n",
       "  </tbody>\n",
       "</table>\n",
       "</div>"
      ],
      "text/plain": [
       "            Card_ID   Year_Birth         Income      Kidhome     Teenhome\n",
       "count  5.000000e+03  5000.000000    4948.000000  5000.000000  5000.000000\n",
       "mean   1.000809e+07  1973.806600   69614.564198     0.440600     0.493600\n",
       "std    2.912058e+03    11.870138   28953.396355     0.538265     0.546643\n",
       "min    1.000308e+07  1946.000000    2195.800000     0.000000    -1.000000\n",
       "25%    1.000560e+07  1964.000000   47075.500000     0.000000     0.000000\n",
       "50%    1.000809e+07  1975.000000   69427.000000     0.000000     0.000000\n",
       "75%    1.001062e+07  1983.000000   92119.750000     1.000000     1.000000\n",
       "max    1.001307e+07  2002.000000  187314.450000     2.000000     2.000000"
      ]
     },
     "execution_count": 12,
     "metadata": {},
     "output_type": "execute_result"
    }
   ],
   "source": [
    "df_demographic.describe()"
   ]
  },
  {
   "cell_type": "code",
   "execution_count": 13,
   "metadata": {},
   "outputs": [
    {
     "name": "stdout",
     "output_type": "stream",
     "text": [
      "Filled NULLS with median(P50) Income =  69427.0\n"
     ]
    }
   ],
   "source": [
    "df_demographic.Income.fillna(df_demographic.describe().Income.loc[\"50%\"], inplace=True)\n",
    "print(\"Filled NULLS with median(P50) Income = \", df_demographic.describe().Income.loc[\"50%\"])"
   ]
  },
  {
   "cell_type": "code",
   "execution_count": 19,
   "metadata": {},
   "outputs": [
    {
     "data": {
      "text/plain": [
       "<matplotlib.axes._subplots.AxesSubplot at 0x1bce8cbe550>"
      ]
     },
     "execution_count": 19,
     "metadata": {},
     "output_type": "execute_result"
    },
    {
     "data": {
      "image/png": "[encoded data removed]",
      "text/plain": [
       "<Figure size 1008x720 with 1 Axes>"
      ]
     },
     "metadata": {
      "needs_background": "light"
     },
     "output_type": "display_data"
    }
   ],
   "source": [
    "df_demographic.boxplot(column=\"Income\", figsize=(14,10))"
   ]
  },
  {
   "cell_type": "code",
   "execution_count": 14,
   "metadata": {},
   "outputs": [
    {
     "data": {
      "text/plain": [
       "array([[<matplotlib.axes._subplots.AxesSubplot object at 0x000001BCE85988E0>,\n",
       "        <matplotlib.axes._subplots.AxesSubplot object at 0x000001BCE85B9670>],\n",
       "       [<matplotlib.axes._subplots.AxesSubplot object at 0x000001BCE8661AF0>,\n",
       "        <matplotlib.axes._subplots.AxesSubplot object at 0x000001BCE8673F40>]],\n",
       "      dtype=object)"
      ]
     },
     "execution_count": 14,
     "metadata": {},
     "output_type": "execute_result"
    },
    {
     "data": {
      "image/png": "[encoded data removed]",
      "text/plain": [
       "<Figure size 1008x720 with 4 Axes>"
      ]
     },
     "metadata": {
      "needs_background": "light"
     },
     "output_type": "display_data"
    }
   ],
   "source": [
    "df_demographic[[\"Year_Birth\", \"Income\", \"Kidhome\", \"Teenhome\"]].hist(figsize=(14,10))"
   ]
  },
  {
   "cell_type": "code",
   "execution_count": 15,
   "metadata": {},
   "outputs": [
    {
     "data": {
      "text/plain": [
       "array([ 0,  1, -1,  2], dtype=int64)"
      ]
     },
     "execution_count": 15,
     "metadata": {},
     "output_type": "execute_result"
    }
   ],
   "source": [
    "df_demographic.Teenhome.unique()"
   ]
  },
  {
   "cell_type": "code",
   "execution_count": 16,
   "metadata": {},
   "outputs": [],
   "source": [
    "df_demographic.Teenhome.where(df_demographic.Teenhome!=-1,1, inplace=True)"
   ]
  },
  {
   "cell_type": "code",
   "execution_count": 17,
   "metadata": {},
   "outputs": [
    {
     "data": {
      "text/plain": [
       "array([0, 1, 2], dtype=int64)"
      ]
     },
     "execution_count": 17,
     "metadata": {},
     "output_type": "execute_result"
    }
   ],
   "source": [
    "df_demographic.Teenhome.unique()"
   ]
  },
  {
   "cell_type": "code",
   "execution_count": 18,
   "metadata": {},
   "outputs": [
    {
     "data": {
      "text/plain": [
       "array([[<matplotlib.axes._subplots.AxesSubplot object at 0x000001BCE8CBE340>,\n",
       "        <matplotlib.axes._subplots.AxesSubplot object at 0x000001BCE8CE8520>],\n",
       "       [<matplotlib.axes._subplots.AxesSubplot object at 0x000001BCE9ED17C0>,\n",
       "        <matplotlib.axes._subplots.AxesSubplot object at 0x000001BCE9EF8C10>]],\n",
       "      dtype=object)"
      ]
     },
     "execution_count": 18,
     "metadata": {},
     "output_type": "execute_result"
    },
    {
     "data": {
      "image/png": "[encoded data removed]",
      "text/plain": [
       "<Figure size 1008x720 with 4 Axes>"
      ]
     },
     "metadata": {
      "needs_background": "light"
     },
     "output_type": "display_data"
    }
   ],
   "source": [
    "df_demographic[[\"Year_Birth\", \"Income\", \"Kidhome\", \"Teenhome\"]].hist(figsize=(14,10))"
   ]
  },
  {
   "cell_type": "code",
   "execution_count": null,
   "metadata": {},
   "outputs": [],
   "source": [
    "df_demographic.Education.value_counts().plot.bar(figsize=(14,12))"
   ]
  },
  {
   "cell_type": "code",
   "execution_count": null,
   "metadata": {},
   "outputs": [],
   "source": [
    "df_demographic.Education.unique()"
   ]
  },
  {
   "cell_type": "code",
   "execution_count": null,
   "metadata": {},
   "outputs": [],
   "source": [
    "df_demographic.Education.where((df_demographic.Education!=\"PHD\")&(df_demographic.Education!=\"phd\"),\"PhD\", inplace=True)"
   ]
  },
  {
   "cell_type": "code",
   "execution_count": null,
   "metadata": {},
   "outputs": [],
   "source": [
    "df_demographic.Education.where((df_demographic.Education!=\"MASTER\")&\n",
    "                               (df_demographic.Education!=\"MATSER\"),\"Master\", inplace=True)"
   ]
  },
  {
   "cell_type": "code",
   "execution_count": null,
   "metadata": {},
   "outputs": [],
   "source": [
    "df_demographic.Education.where((df_demographic.Education!=\"GRADUATION\")&\n",
    "                               (df_demographic.Education!=\"graduation\"),\"Graduation\", inplace=True)"
   ]
  },
  {
   "cell_type": "code",
   "execution_count": null,
   "metadata": {},
   "outputs": [],
   "source": [
    "df_demographic.Education.where(df_demographic.Education!=\"2N CYCLE\",\"2n Cycle\", inplace=True)"
   ]
  },
  {
   "cell_type": "code",
   "execution_count": null,
   "metadata": {},
   "outputs": [],
   "source": [
    "df_demographic.Education.unique()"
   ]
  },
  {
   "cell_type": "code",
   "execution_count": null,
   "metadata": {},
   "outputs": [],
   "source": [
    "Education2Level = {\"2n Cycle\":1, \"Graduation\":2, \"Master\":3, \"PhD\":4}"
   ]
  },
  {
   "cell_type": "code",
   "execution_count": null,
   "metadata": {},
   "outputs": [],
   "source": [
    "df_demographic[\"Education_Level\"] = df_demographic.Education.map(Education2Level)"
   ]
  },
  {
   "cell_type": "code",
   "execution_count": null,
   "metadata": {
    "scrolled": true
   },
   "outputs": [],
   "source": [
    "df_demographic.info()"
   ]
  },
  {
   "cell_type": "code",
   "execution_count": null,
   "metadata": {},
   "outputs": [],
   "source": [
    "df_demographic.Education_Level.value_counts().plot.bar(figsize=(14,10))"
   ]
  },
  {
   "cell_type": "code",
   "execution_count": null,
   "metadata": {},
   "outputs": [],
   "source": [
    "df_demographic.Education.value_counts().plot.bar(figsize=(14,10))"
   ]
  },
  {
   "cell_type": "code",
   "execution_count": null,
   "metadata": {},
   "outputs": [],
   "source": [
    "df_demographic.Marital_Status.value_counts().plot.bar(figsize=(14,10))"
   ]
  },
  {
   "cell_type": "code",
   "execution_count": null,
   "metadata": {},
   "outputs": [],
   "source": [
    "df_demographic.Country.value_counts().plot.bar(figsize=(14,10))\n",
    "# df_demographic.Country.hist(figsize=(14,10))"
   ]
  },
  {
   "cell_type": "code",
   "execution_count": null,
   "metadata": {},
   "outputs": [],
   "source": [
    "df_demographic.Region.value_counts().plot.bar(figsize=(14,10))"
   ]
  },
  {
   "cell_type": "code",
   "execution_count": null,
   "metadata": {},
   "outputs": [],
   "source": [
    "df_demographic[df_demographic.Country==\"UK\"]"
   ]
  },
  {
   "cell_type": "code",
   "execution_count": null,
   "metadata": {},
   "outputs": [],
   "source": [
    "df_demographic[df_demographic.Country==\"France\"]"
   ]
  },
  {
   "cell_type": "code",
   "execution_count": null,
   "metadata": {},
   "outputs": [],
   "source": [
    "Temp = df_demographic.Name.str.split(\" \")"
   ]
  },
  {
   "cell_type": "code",
   "execution_count": null,
   "metadata": {},
   "outputs": [],
   "source": [
    "df_demographic = df_demographic.assign(Male=0)"
   ]
  },
  {
   "cell_type": "code",
   "execution_count": null,
   "metadata": {},
   "outputs": [],
   "source": [
    "df_demographic.columns"
   ]
  },
  {
   "cell_type": "code",
   "execution_count": null,
   "metadata": {},
   "outputs": [],
   "source": [
    "for i in range(Temp.size):\n",
    "    if type(Temp[i])==float:\n",
    "        df_demographic[\"Male\"].iloc[i] = \"Mr.\" # Missing Value filled with \"Mr.\"\n",
    "    else:\n",
    "        df_demographic[\"Male\"].iloc[i] = Temp[i][0]"
   ]
  },
  {
   "cell_type": "code",
   "execution_count": null,
   "metadata": {},
   "outputs": [],
   "source": [
    "df_demographic.tail(10)"
   ]
  },
  {
   "cell_type": "code",
   "execution_count": null,
   "metadata": {},
   "outputs": [],
   "source": [
    "df_demographic.Male.hist()"
   ]
  },
  {
   "cell_type": "code",
   "execution_count": null,
   "metadata": {},
   "outputs": [],
   "source": [
    "df_demographic.Male.where(df_demographic.Male!=\"Mr.\",1, inplace=True)"
   ]
  },
  {
   "cell_type": "code",
   "execution_count": null,
   "metadata": {},
   "outputs": [],
   "source": [
    "df_demographic.Male.where(df_demographic.Male==1,0, inplace=True)"
   ]
  },
  {
   "cell_type": "code",
   "execution_count": null,
   "metadata": {},
   "outputs": [],
   "source": [
    "df_demographic.Male = df_demographic.Male.astype(int)"
   ]
  },
  {
   "cell_type": "code",
   "execution_count": null,
   "metadata": {},
   "outputs": [],
   "source": [
    "df_demographic.Male.hist()"
   ]
  },
  {
   "cell_type": "code",
   "execution_count": null,
   "metadata": {},
   "outputs": [],
   "source": []
  },
  {
   "cell_type": "markdown",
   "metadata": {},
   "source": [
    "# firmographic"
   ]
  },
  {
   "cell_type": "code",
   "execution_count": 5,
   "metadata": {},
   "outputs": [],
   "source": [
    "df_firmographic = pd.read_csv(\"firmographic.csv\")"
   ]
  },
  {
   "cell_type": "code",
   "execution_count": 7,
   "metadata": {},
   "outputs": [
    {
     "name": "stdout",
     "output_type": "stream",
     "text": [
      "<class 'pandas.core.frame.DataFrame'>\n",
      "RangeIndex: 5000 entries, 0 to 4999\n",
      "Data columns (total 20 columns):\n",
      " #   Column                     Non-Null Count  Dtype  \n",
      "---  ------                     --------------  -----  \n",
      " 0   Card_ID                    5000 non-null   int64  \n",
      " 1   Dt_Customer                5000 non-null   object \n",
      " 2   Recency                    5000 non-null   int64  \n",
      " 3   MntGroceries               5000 non-null   float64\n",
      " 4   MntStationery              5000 non-null   float64\n",
      " 5   MntHouseKeeping            4907 non-null   float64\n",
      " 6   MntWellness_&_Beauty       4935 non-null   float64\n",
      " 7   MntElectronics_&_Supplies  5000 non-null   float64\n",
      " 8   MntLimitedEdition          5000 non-null   float64\n",
      " 9   NumDealsPurchases          5000 non-null   int64  \n",
      " 10  NumWebPurchases            5000 non-null   int64  \n",
      " 11  NumCatalogPurchases        5000 non-null   int64  \n",
      " 12  NumStorePurchases          5000 non-null   int64  \n",
      " 13  NumWebVisitsMonth          5000 non-null   int64  \n",
      " 14  AcceptedCmp1               5000 non-null   int64  \n",
      " 15  AcceptedCmp2               5000 non-null   int64  \n",
      " 16  AcceptedCmp3               5000 non-null   int64  \n",
      " 17  AcceptedCmp4               5000 non-null   int64  \n",
      " 18  AcceptedCmp5               5000 non-null   int64  \n",
      " 19  Complain                   5000 non-null   int64  \n",
      "dtypes: float64(6), int64(13), object(1)\n",
      "memory usage: 781.4+ KB\n"
     ]
    }
   ],
   "source": [
    "df_firmographic.info()"
   ]
  },
  {
   "cell_type": "code",
   "execution_count": 8,
   "metadata": {},
   "outputs": [
    {
     "data": {
      "text/plain": [
       "0"
      ]
     },
     "execution_count": 8,
     "metadata": {},
     "output_type": "execute_result"
    }
   ],
   "source": [
    "df_firmographic.Card_ID.duplicated().sum()"
   ]
  },
  {
   "cell_type": "code",
   "execution_count": 9,
   "metadata": {},
   "outputs": [
    {
     "data": {
      "text/plain": [
       "array(['11/3/2018', '4/18/2019', '7/22/2018', '2/3/2018', '10/31/2018',\n",
       "       '12/7/2017', '3/8/2019', '11/24/2017', '4/17/2019', '11/4/2018',\n",
       "       '12/19/2017', '2/17/2019', '10/10/2017', '2/20/2019', '9/29/2018',\n",
       "       '2/17/2018', '6/22/2019', '2/3/2019', '4/27/2019', '9/15/2018',\n",
       "       '3/20/2019', '3/15/2019', '6/26/2019', '8/23/2017', '3/11/2019',\n",
       "       '7/13/2018', '3/3/2018', '9/10/2017', '1/13/2018', '12/17/2018',\n",
       "       '6/18/2018', '2/28/2019', '5/4/2018', '7/10/2018', '4/17/2018',\n",
       "       '8/27/2018', '5/20/2018', '2/10/2018', '11/17/2017', '4/7/2018',\n",
       "       '1/12/2018', '9/2/2017', '2/14/2018', '9/19/2017', '11/20/2018',\n",
       "       '8/10/2017', '5/9/2019', '3/21/2019', '9/3/2017', '5/24/2018',\n",
       "       '4/23/2018', '12/21/2017', '6/29/2018', '4/9/2018', '6/12/2018',\n",
       "       '1/8/2019', '5/4/2019', '6/6/2019', '10/30/2018', '3/2/2019',\n",
       "       '6/8/2018', '5/31/2019', '12/1/2017', '11/25/2018', '10/23/2017',\n",
       "       '9/11/2018', '2/25/2019', '3/5/2018', '5/12/2019', '6/13/2019',\n",
       "       '6/5/2018', '7/30/2018', '3/23/2019', '9/6/2017', '1/7/2018',\n",
       "       '10/3/2017', '5/13/2018', '9/11/2017', '11/16/2017', '1/24/2018',\n",
       "       '5/25/2018', '4/18/2018', '1/21/2019', '11/19/2018', '6/17/2018',\n",
       "       '3/8/2018', '11/18/2018', '1/3/2019', '8/30/2018', '2/15/2019',\n",
       "       '4/3/2019', '10/11/2018', '11/23/2017', '1/3/2018', '10/14/2018',\n",
       "       '8/22/2018', '10/28/2018', '6/25/2019', '4/20/2018', '11/9/2018',\n",
       "       '9/1/2017', '8/5/2018', '4/20/2019', '7/20/2018', '4/5/2019',\n",
       "       '12/26/2018', '8/26/2017', '8/19/2017', '6/7/2018', '5/29/2018',\n",
       "       '2/21/2019', '11/26/2017', '3/13/2019', '10/5/2018', '10/4/2017',\n",
       "       '5/23/2018', '8/11/2018', '6/3/2018', '4/24/2019', '5/30/2018',\n",
       "       '12/22/2018', '8/12/2017', '9/14/2018', '5/26/2019', '11/29/2018',\n",
       "       '10/18/2017', '4/19/2018', '5/8/2018', '1/13/2019', '9/18/2017',\n",
       "       '1/2/2018', '5/14/2019', '8/14/2018', '6/27/2018', '5/8/2019',\n",
       "       '12/10/2018', '1/23/2019', '3/11/2018', '9/24/2018', '12/27/2018',\n",
       "       '7/27/2018', '11/11/2018', '5/27/2018', '5/27/2019', '9/30/2017',\n",
       "       '5/9/2018', '11/14/2018', '6/2/2019', '12/8/2017', '6/15/2019',\n",
       "       '12/4/2018', '11/3/2017', '6/5/2019', '1/18/2019', '5/2/2018',\n",
       "       '8/5/2017', '6/24/2018', '2/5/2018', '12/7/2018', '11/8/2018',\n",
       "       '2/20/2018', '2/2/2019', '12/14/2018', '1/29/2018', '8/24/2017',\n",
       "       '1/8/2018', '12/2/2017', '1/29/2019', '1/20/2018', '10/29/2017',\n",
       "       '5/26/2018', '5/13/2019', '5/2/2019', '6/7/2019', '7/15/2018',\n",
       "       '10/30/2017', '6/14/2019', '5/5/2019', '1/9/2018', '11/25/2017',\n",
       "       '10/24/2018', '9/24/2017', '3/14/2018', '12/3/2018', '3/16/2018',\n",
       "       '3/27/2019', '1/17/2018', '9/9/2018', '12/20/2017', '6/9/2019',\n",
       "       '8/15/2017', '12/19/2018', '2/25/2018', '12/11/2018', '4/4/2019',\n",
       "       '12/2/2018', '11/2/2018', '4/10/2018', '1/18/2018', '1/31/2019',\n",
       "       '7/19/2018', '10/22/2018', '7/29/2018', '4/16/2018', '6/23/2018',\n",
       "       '4/3/2018', '3/25/2019', '12/25/2018', '8/3/2017', '2/21/2018',\n",
       "       '1/28/2018', '2/27/2018', '6/9/2018', '1/20/2019', '3/17/2019',\n",
       "       '8/11/2017', '5/30/2019', '11/30/2018', '3/4/2019', '12/12/2017',\n",
       "       '9/26/2017', '10/16/2017', '2/11/2018', '10/12/2018', '3/5/2019',\n",
       "       '11/5/2017', '8/6/2017', '4/25/2018', '9/18/2018', '3/4/2018',\n",
       "       '12/16/2018', '4/4/2018', '11/21/2017', '5/7/2018', '10/10/2018',\n",
       "       '10/3/2018', '3/30/2018', '8/26/2018', '7/4/2018', '9/28/2018',\n",
       "       '5/3/2019', '12/24/2018', '11/10/2017', '9/21/2018', '1/14/2018',\n",
       "       '1/26/2019', '3/23/2018', '12/23/2018', '10/1/2018', '2/6/2018',\n",
       "       '8/6/2018', '3/22/2019', '1/1/2019', '10/17/2018', '5/15/2018',\n",
       "       '8/13/2018', '7/5/2018', '8/2/2017', '5/15/2019', '11/9/2017',\n",
       "       '4/21/2019', '12/11/2017', '12/6/2017', '7/23/2018', '5/10/2019',\n",
       "       '3/9/2018', '2/1/2018', '2/26/2018', '10/9/2017', '9/8/2017',\n",
       "       '2/14/2019', '12/9/2017', '11/23/2018', '10/11/2017', '9/5/2018',\n",
       "       '12/31/2017', '9/8/2018', '5/25/2019', '12/29/2017', '5/22/2018',\n",
       "       '1/4/2019', '9/26/2018', '7/6/2018', '5/11/2018', '12/1/2018',\n",
       "       '8/29/2018', '10/12/2017', '8/10/2018', '4/30/2018', '4/12/2019',\n",
       "       '8/31/2017', '11/16/2018', '3/28/2019', '10/1/2017', '11/7/2017',\n",
       "       '12/5/2018', '8/30/2017', '9/23/2018', '12/21/2018', '8/7/2018',\n",
       "       '3/18/2019', '1/28/2019', '2/16/2019', '2/12/2018', '8/14/2017',\n",
       "       '5/1/2018', '3/19/2019', '10/5/2017', '1/14/2019', '7/28/2018',\n",
       "       '4/14/2018', '12/27/2017', '2/2/2018', '5/7/2019', '11/8/2017',\n",
       "       '9/23/2017', '4/6/2019', '11/28/2018', '1/21/2018', '11/10/2018',\n",
       "       '8/20/2018', '11/13/2018', '5/11/2019', '12/18/2018', '6/24/2019',\n",
       "       '8/8/2018', '2/26/2019', '2/22/2018', '9/9/2017', '6/26/2018',\n",
       "       '9/29/2017', '9/13/2017', '7/9/2018', '8/16/2017', '9/28/2017',\n",
       "       '9/17/2017', '2/5/2019', '8/18/2017', '3/10/2019', '3/9/2019',\n",
       "       '2/28/2018', '6/6/2018', '3/12/2018', '9/14/2017', '9/16/2017',\n",
       "       '3/27/2018', '6/28/2018', '8/19/2018', '2/13/2019', '5/28/2019',\n",
       "       '4/13/2019', '10/25/2017', '11/6/2018', '4/14/2019', '10/21/2018',\n",
       "       '4/15/2019', '10/20/2018', '3/18/2018', '4/16/2019', '11/5/2018',\n",
       "       '8/21/2018', '2/15/2018', '3/1/2019', '8/4/2017', '2/24/2019',\n",
       "       '2/9/2019', '6/11/2019', '9/20/2017', '1/24/2019', '6/15/2018',\n",
       "       '4/2/2019', '12/10/2017', '8/2/2018', '8/25/2017', '1/23/2018',\n",
       "       '1/30/2018', '8/8/2017', '10/9/2018', '3/15/2018', '9/7/2018',\n",
       "       '2/7/2019', '8/17/2018', '2/19/2019', '8/22/2017', '10/28/2017',\n",
       "       '8/9/2017', '3/20/2018', '2/8/2018', '4/10/2019', '4/30/2019',\n",
       "       '7/12/2018', '12/29/2018', '6/20/2019', '8/12/2018', '4/7/2019',\n",
       "       '11/18/2017', '5/3/2018', '7/8/2018', '7/3/2018', '5/10/2018',\n",
       "       '8/31/2018', '1/10/2019', '12/12/2018', '12/13/2017', '4/13/2018',\n",
       "       '9/2/2018', '4/28/2019', '11/17/2018', '11/12/2018', '4/8/2018',\n",
       "       '10/24/2017', '1/15/2018', '12/30/2017', '9/5/2017', '6/23/2019',\n",
       "       '7/31/2017', '5/18/2019', '6/18/2019', '9/19/2018', '8/20/2017',\n",
       "       '10/20/2017', '8/24/2018', '1/6/2019', '10/14/2017', '3/31/2018',\n",
       "       '6/29/2019', '11/14/2017', '7/7/2018', '10/13/2017', '3/29/2019',\n",
       "       '11/20/2017', '10/8/2017', '12/23/2017', '6/1/2019', '5/1/2019',\n",
       "       '12/25/2017', '11/1/2018', '4/22/2018', '9/21/2017', '2/19/2018',\n",
       "       '9/25/2017', '10/16/2018', '12/20/2018', '6/10/2018', '10/6/2018',\n",
       "       '2/23/2019', '5/6/2019', '9/13/2018', '6/21/2018', '6/30/2019',\n",
       "       '1/9/2019', '6/30/2018', '11/27/2018', '11/28/2017', '12/26/2017',\n",
       "       '1/30/2019', '3/12/2019', '4/11/2019', '10/25/2018', '11/13/2017',\n",
       "       '4/21/2018', '4/28/2018', '9/7/2017', '9/12/2018', '12/15/2018',\n",
       "       '3/10/2018', '2/9/2018', '4/1/2018', '10/2/2017', '5/21/2018',\n",
       "       '7/24/2018', '1/6/2018', '4/22/2019', '10/17/2017', '6/21/2019',\n",
       "       '8/23/2018', '4/26/2018', '6/19/2019', '11/7/2018', '6/10/2019',\n",
       "       '5/29/2019', '6/27/2019', '1/25/2018', '10/29/2018', '9/10/2018',\n",
       "       '11/4/2017', '3/24/2019', '7/17/2018', '10/15/2018', '2/24/2018',\n",
       "       '8/28/2018', '9/4/2018', '3/3/2019', '2/11/2019', '10/8/2018',\n",
       "       '8/27/2017', '10/19/2017', '8/9/2018', '10/26/2017', '3/19/2018',\n",
       "       '11/30/2017', '6/3/2019', '6/8/2019', '10/31/2017', '12/9/2018',\n",
       "       '9/17/2018', '11/15/2018', '7/11/2018', '9/6/2018', '3/26/2018',\n",
       "       '5/24/2019', '3/13/2018', '9/3/2018', '10/13/2018', '10/19/2018',\n",
       "       '1/26/2018', '12/13/2018', '12/18/2017', '5/22/2019', '6/22/2018',\n",
       "       '2/4/2018', '1/11/2019', '3/26/2019', '1/1/2018', '1/31/2018',\n",
       "       '12/15/2017', '11/12/2017', '1/7/2019', '12/8/2018', '4/5/2018',\n",
       "       '6/25/2018', '3/16/2019', '5/19/2018', '1/16/2018', '5/18/2018',\n",
       "       '10/2/2018', '2/4/2019', '5/21/2019', '7/18/2018', '3/17/2018',\n",
       "       '6/14/2018', '6/20/2018', '4/25/2019', '9/27/2018', '3/2/2018',\n",
       "       '8/15/2018', '6/17/2019', '4/12/2018', '3/1/2018', '8/16/2018',\n",
       "       '2/12/2019', '8/17/2017', '9/1/2018', '9/30/2018', '3/29/2018',\n",
       "       '1/27/2018', '5/17/2018', '8/18/2018', '5/31/2018', '4/2/2018',\n",
       "       '12/28/2017', '10/23/2018', '3/31/2019', '2/13/2018', '11/29/2017',\n",
       "       '3/14/2019', '7/21/2018', '8/21/2017', '10/21/2017', '2/8/2019',\n",
       "       '1/19/2019', '7/16/2018', '1/2/2019', '8/28/2017', '5/23/2019',\n",
       "       '4/27/2018', '9/22/2017', '5/20/2019', '6/1/2018', '12/24/2017',\n",
       "       '11/24/2018', '1/10/2018', '1/16/2019', '7/31/2018', '5/19/2019',\n",
       "       '9/4/2017', '8/7/2017', '9/15/2017', '10/22/2017', '10/4/2018',\n",
       "       '12/3/2017', '11/22/2017', '1/22/2018', '10/15/2017', '4/8/2019',\n",
       "       '4/6/2018', '11/1/2017', '10/26/2018', '3/7/2019', '3/24/2018',\n",
       "       '2/6/2019', '9/27/2017', '12/16/2017', '4/11/2018', '3/30/2019',\n",
       "       '11/27/2017', '3/22/2018', '6/16/2018', '4/9/2019', '12/31/2018',\n",
       "       '1/27/2019', '2/22/2019', '6/28/2019', '8/1/2018', '2/18/2019',\n",
       "       '10/6/2017', '11/2/2017', '2/23/2018', '1/11/2018', '7/25/2018',\n",
       "       '10/18/2018', '12/6/2018', '5/12/2018', '2/16/2018', '9/12/2017',\n",
       "       '3/28/2018', '4/26/2019', '4/19/2019', '7/2/2018', '10/7/2018',\n",
       "       '2/27/2019', '12/14/2017', '3/21/2018', '12/22/2017', '4/23/2019',\n",
       "       '12/17/2017', '6/2/2018', '10/7/2017', '1/4/2018', '6/4/2018',\n",
       "       '2/18/2018', '1/15/2019', '9/25/2018', '12/5/2017', '1/5/2018',\n",
       "       '10/27/2018', '9/16/2018', '2/1/2019', '4/15/2018', '11/22/2018',\n",
       "       '12/30/2018', '3/6/2019', '8/1/2017', '4/24/2018', '8/3/2018',\n",
       "       '5/28/2018', '11/11/2017', '6/12/2019', '2/7/2018', '6/13/2018',\n",
       "       '5/5/2018', '7/26/2018', '9/20/2018', '11/26/2018', '5/17/2019',\n",
       "       '3/6/2018', '1/22/2019', '6/16/2019', '6/11/2018', '3/7/2018',\n",
       "       '1/17/2019', '11/6/2017', '12/28/2018', '1/12/2019', '4/29/2018',\n",
       "       '4/29/2019', '6/19/2018', '5/16/2019', '5/6/2018', '6/4/2019',\n",
       "       '5/14/2018', '3/25/2018', '8/29/2017', '1/5/2019', '11/21/2018',\n",
       "       '10/27/2017', '8/4/2018', '7/1/2018', '4/1/2019', '9/22/2018',\n",
       "       '1/19/2018', '5/16/2018', '1/25/2019', '8/13/2017', '7/14/2018',\n",
       "       '11/15/2017', '12/4/2017', '2/10/2019', '8/25/2018', '11/19/2017'],\n",
       "      dtype=object)"
      ]
     },
     "execution_count": 9,
     "metadata": {},
     "output_type": "execute_result"
    }
   ],
   "source": [
    "df_firmographic.Dt_Customer.unique()"
   ]
  },
  {
   "cell_type": "code",
   "execution_count": 10,
   "metadata": {},
   "outputs": [],
   "source": [
    "df_firmographic[\"Customer_Date\"] = pd.to_datetime(df_firmographic.Dt_Customer, format='%m/%d/%Y')\n",
    "# https://pandas.pydata.org/docs/reference/api/pandas.to_datetime.html?highlight=to_datetime\n",
    "# https://docs.python.org/3/library/datetime.html#strftime-and-strptime-behavior"
   ]
  },
  {
   "cell_type": "code",
   "execution_count": 12,
   "metadata": {},
   "outputs": [
    {
     "data": {
      "text/plain": [
       "<matplotlib.axes._subplots.AxesSubplot at 0x18b29eecb80>"
      ]
     },
     "execution_count": 12,
     "metadata": {},
     "output_type": "execute_result"
    },
    {
     "data": {
      "image/png": "[encoded data removed]",
      "text/plain": [
       "<Figure size 432x288 with 1 Axes>"
      ]
     },
     "metadata": {
      "needs_background": "light"
     },
     "output_type": "display_data"
    }
   ],
   "source": [
    "df_firmographic.Customer_Date.hist()"
   ]
  },
  {
   "cell_type": "code",
   "execution_count": 13,
   "metadata": {},
   "outputs": [
    {
     "data": {
      "text/plain": [
       "<matplotlib.axes._subplots.AxesSubplot at 0x18b29dc54c0>"
      ]
     },
     "execution_count": 13,
     "metadata": {},
     "output_type": "execute_result"
    },
    {
     "data": {
      "image/png": "[encoded data removed]",
      "text/plain": [
       "<Figure size 432x288 with 1 Axes>"
      ]
     },
     "metadata": {
      "needs_background": "light"
     },
     "output_type": "display_data"
    }
   ],
   "source": [
    "df_firmographic.Recency.hist()"
   ]
  },
  {
   "cell_type": "code",
   "execution_count": null,
   "metadata": {},
   "outputs": [],
   "source": [
    "df_firmographic.info()"
   ]
  },
  {
   "cell_type": "code",
   "execution_count": null,
   "metadata": {},
   "outputs": [],
   "source": [
    "df_firmographic[[\"MntGroceries\",\n",
    "                 \"MntStationery\",\n",
    "                 \"MntHouseKeeping\",\n",
    "                 \"MntWellness_&_Beauty\",\n",
    "                 \"MntElectronics_&_Supplies\",\n",
    "                 \"MntLimitedEdition\"]].hist(figsize=(14,10))"
   ]
  },
  {
   "cell_type": "code",
   "execution_count": null,
   "metadata": {},
   "outputs": [],
   "source": [
    "# df_firmographic[\"MntGroceries\"].boxplot(figsize=(14,10)) ERRO, porque é uma Series e o boxplot não funciona!!? WTF??\n",
    "fig, axes = plt.subplots(1, 6, figsize=(14,6))\n",
    "df_firmographic[[\"MntGroceries\"]].boxplot(figsize=(6,4), ax=axes[0])\n",
    "df_firmographic[[\"MntStationery\"]].boxplot(figsize=(6,4), ax=axes[1])\n",
    "df_firmographic[[\"MntHouseKeeping\"]].boxplot(figsize=(6,4), ax=axes[2])\n",
    "df_firmographic[[\"MntWellness_&_Beauty\"]].boxplot(figsize=(6,4), ax=axes[3])\n",
    "df_firmographic[[\"MntElectronics_&_Supplies\"]].boxplot(figsize=(6,4), ax=axes[4])\n",
    "df_firmographic[[\"MntLimitedEdition\"]].boxplot(figsize=(6,4), ax=axes[5])"
   ]
  },
  {
   "cell_type": "code",
   "execution_count": null,
   "metadata": {},
   "outputs": [],
   "source": [
    "df_firmographic[[\"MntGroceries\",\n",
    "                 \"MntStationery\",\n",
    "                 \"MntHouseKeeping\",\n",
    "                 \"MntWellness_&_Beauty\",\n",
    "                 \"MntElectronics_&_Supplies\",\n",
    "                 \"MntLimitedEdition\"]].corr()"
   ]
  },
  {
   "cell_type": "code",
   "execution_count": null,
   "metadata": {},
   "outputs": [],
   "source": [
    "df_firmographic[[\"NumDealsPurchases\",\n",
    "                 \"NumWebPurchases\",\n",
    "                 \"NumCatalogPurchases\",\n",
    "                 \"NumStorePurchases\",\n",
    "                 \"NumWebVisitsMonth\"]].hist(figsize=(14,10))"
   ]
  },
  {
   "cell_type": "code",
   "execution_count": null,
   "metadata": {},
   "outputs": [],
   "source": [
    "fig, axes = plt.subplots(1, 5, figsize=(14,6))\n",
    "df_firmographic[[\"NumDealsPurchases\"]].boxplot(figsize=(6,4), ax=axes[0])\n",
    "df_firmographic[[\"NumWebPurchases\"]].boxplot(figsize=(6,4), ax=axes[1])\n",
    "df_firmographic[[\"NumCatalogPurchases\"]].boxplot(figsize=(6,4), ax=axes[2])\n",
    "df_firmographic[[\"NumStorePurchases\"]].boxplot(figsize=(6,4), ax=axes[3])\n",
    "df_firmographic[[\"NumWebVisitsMonth\"]].boxplot(figsize=(6,4), ax=axes[4])"
   ]
  },
  {
   "cell_type": "code",
   "execution_count": null,
   "metadata": {
    "scrolled": true
   },
   "outputs": [],
   "source": [
    "df_firmographic[[\"NumDealsPurchases\",\n",
    "                 \"NumWebPurchases\",\n",
    "                 \"NumCatalogPurchases\",\n",
    "                 \"NumStorePurchases\",\n",
    "                 \"NumWebVisitsMonth\"]].corr()"
   ]
  },
  {
   "cell_type": "code",
   "execution_count": null,
   "metadata": {
    "scrolled": true
   },
   "outputs": [],
   "source": [
    "df_firmographic.Complain.value_counts()"
   ]
  },
  {
   "cell_type": "code",
   "execution_count": null,
   "metadata": {},
   "outputs": [],
   "source": [
    "df_firmographic.columns"
   ]
  },
  {
   "cell_type": "code",
   "execution_count": null,
   "metadata": {},
   "outputs": [],
   "source": [
    "df_firmographic[\"Mnt\"] = (df_firmographic.MntGroceries+\n",
    "                         df_firmographic.MntStationery+\n",
    "                         df_firmographic.MntHouseKeeping+\n",
    "                         df_firmographic[\"MntWellness_&_Beauty\"]+\n",
    "                         df_firmographic[\"MntElectronics_&_Supplies\"]+\n",
    "                         df_firmographic.MntLimitedEdition)"
   ]
  },
  {
   "cell_type": "code",
   "execution_count": null,
   "metadata": {},
   "outputs": [],
   "source": [
    "df_firmographic[\"AcceptedCmp\"] = (df_firmographic.AcceptedCmp1+\n",
    "                                 df_firmographic.AcceptedCmp2+\n",
    "                                 df_firmographic.AcceptedCmp3+\n",
    "                                 df_firmographic.AcceptedCmp4+\n",
    "                                 df_firmographic.AcceptedCmp5)"
   ]
  },
  {
   "cell_type": "code",
   "execution_count": null,
   "metadata": {},
   "outputs": [],
   "source": [
    "df_firmographic[\"Numbs\"] = (df_firmographic.NumDealsPurchases+\n",
    "                            df_firmographic.NumWebPurchases+\n",
    "                            df_firmographic.NumCatalogPurchases+\n",
    "                            df_firmographic.NumStorePurchases+\n",
    "                            df_firmographic.NumWebVisitsMonth)"
   ]
  },
  {
   "cell_type": "code",
   "execution_count": null,
   "metadata": {},
   "outputs": [],
   "source": [
    "df_firmographic[\"Numbs\"].hist(bins=range(1,60,2))"
   ]
  },
  {
   "cell_type": "code",
   "execution_count": null,
   "metadata": {},
   "outputs": [],
   "source": [
    "df_demographic[\"Minorhome\"]=df_demographic.Kidhome + df_demographic.Teenhome"
   ]
  },
  {
   "cell_type": "code",
   "execution_count": null,
   "metadata": {},
   "outputs": [],
   "source": [
    "df_demographic.drop(columns=['Name',\n",
    "                             'Education',\n",
    "                             'Kidhome',\n",
    "                             'Teenhome',\n",
    "                             'Country'], inplace=True)"
   ]
  },
  {
   "cell_type": "code",
   "execution_count": null,
   "metadata": {},
   "outputs": [],
   "source": [
    "df_firmographic.drop(columns=['Dt_Customer',\n",
    "                              'Recency',\n",
    "                              'MntGroceries',\n",
    "                              'MntStationery',\n",
    "                              'MntHouseKeeping',\n",
    "                              'MntWellness_&_Beauty',\n",
    "                              'MntElectronics_&_Supplies',\n",
    "                              'MntLimitedEdition',\n",
    "                              'NumDealsPurchases',\n",
    "                              'NumWebPurchases',\n",
    "                              'NumCatalogPurchases',\n",
    "                              'NumStorePurchases',\n",
    "                              'NumWebVisitsMonth',\n",
    "                              'AcceptedCmp1',\n",
    "                              'AcceptedCmp2',\n",
    "                              'AcceptedCmp3',\n",
    "                              'AcceptedCmp4',\n",
    "                              'AcceptedCmp5'], inplace=True)"
   ]
  },
  {
   "cell_type": "markdown",
   "metadata": {},
   "source": [
    "# Falta tratar dos missing values em \"MntHouseKeeping\" \"MntWellness & Beauty\"\n",
    "# Tenho de perceber se é necessário normalizar as variáveis, porque têm todas elevado \"right skew\" (exponenciais negativas!?)"
   ]
  },
  {
   "cell_type": "code",
   "execution_count": null,
   "metadata": {},
   "outputs": [],
   "source": [
    "df = df_demographic.merge(df_firmographic, on=\"Card_ID\")\n",
    "df"
   ]
  },
  {
   "cell_type": "code",
   "execution_count": null,
   "metadata": {},
   "outputs": [],
   "source": [
    "df.set_index(\"Card_ID\", inplace=True)\n",
    "df"
   ]
  },
  {
   "cell_type": "code",
   "execution_count": null,
   "metadata": {},
   "outputs": [],
   "source": [
    "df.Mnt.fillna(0, inplace=True)"
   ]
  },
  {
   "cell_type": "code",
   "execution_count": null,
   "metadata": {},
   "outputs": [],
   "source": [
    "from sklearn.cluster import KMeans"
   ]
  },
  {
   "cell_type": "code",
   "execution_count": null,
   "metadata": {},
   "outputs": [],
   "source": [
    "ks = range(1, 4)\n",
    "inertias = []\n",
    "\n",
    "for k in ks:\n",
    "    # Create a KMeans instance with k clusters: model\n",
    "    model = KMeans(n_clusters=k)\n",
    "\n",
    "    # Fit model to samples\n",
    "    model.fit(df[[\"Income\", \"Mnt\", \"Numbs\"]])\n",
    "\n",
    "    # Append the inertia to the list of inertias\n",
    "    inertias.append(model.inertia_)"
   ]
  },
  {
   "cell_type": "code",
   "execution_count": null,
   "metadata": {},
   "outputs": [],
   "source": [
    "# Plot ks (x-axis) vs inertias (y-axis) using plt.plot(). \n",
    "plt.plot(ks, inertias)\n",
    "\n",
    "# define the label for x axis as 'number of clusters' using matplotlib.pyplot.xlabel\n",
    "plt.xlabel('number of clusters')\n",
    "# define the label for y axis as 'inertia' using matplotlib.pyplot.ylabel\n",
    "plt.ylabel('inertia')\n",
    "# define the ticks in x axis using the values of ks\n",
    "plt.xticks(ks)\n",
    "# call plt.show()\n",
    "plt.show()"
   ]
  },
  {
   "cell_type": "code",
   "execution_count": null,
   "metadata": {},
   "outputs": [],
   "source": [
    "df['label'] = model.labels_"
   ]
  },
  {
   "cell_type": "code",
   "execution_count": null,
   "metadata": {},
   "outputs": [],
   "source": [
    "df.groupby(['label']).mean()"
   ]
  },
  {
   "cell_type": "code",
   "execution_count": null,
   "metadata": {},
   "outputs": [],
   "source": [
    "df.plot.scatter(x=\"Income\",y=\"Mnt\",figsize=(14,10))"
   ]
  },
  {
   "cell_type": "code",
   "execution_count": null,
   "metadata": {},
   "outputs": [],
   "source": [
    "(df.Mnt/df.Income).max()"
   ]
  },
  {
   "cell_type": "code",
   "execution_count": null,
   "metadata": {},
   "outputs": [],
   "source": []
  }
 ],
 "metadata": {
  "kernelspec": {
   "display_name": "Python 3",
   "language": "python",
   "name": "python3"
  },
  "language_info": {
   "codemirror_mode": {
    "name": "ipython",
    "version": 3
   },
   "file_extension": ".py",
   "mimetype": "text/x-python",
   "name": "python",
   "nbconvert_exporter": "python",
   "pygments_lexer": "ipython3",
   "version": "3.8.5"
  }
 },
 "nbformat": 4,
 "nbformat_minor": 4
}
