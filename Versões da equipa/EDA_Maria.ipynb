{
 "cells": [
  {
   "cell_type": "markdown",
   "id": "political-university",
   "metadata": {},
   "source": [
    "<a id=\"logo\"></a>\n",
    "![NOVA IMS LOGO](https://www.novaims.unl.pt/images/logo.png)\n",
    "\n",
    "\n",
    "<br>\n",
    "<hr>\n",
    "\n",
    "\n",
    "<h2 style=\"color:blue\"> Table of contents</h2>\n",
    "\n",
    "<br>\n",
    "\n",
    "1. [Data Import](#import)\n",
    "2. [Data Exploration](#explore)<br>\n",
    "3. [Data Cleaning](#clean)\n",
    "4. [Data Transformation](#transform)\n",
    "5. [Data Reduction](#reduce)\n",
    "6. [Data Clustering](#cluster)"
   ]
  },
  {
   "cell_type": "code",
   "execution_count": 1,
   "id": "missing-utility",
   "metadata": {},
   "outputs": [
    {
     "data": {
      "text/html": [
       "<script>\n",
       "code_show=true; \n",
       "function code_toggle() {\n",
       " if (code_show){\n",
       " $('div.input').hide();\n",
       " } else {\n",
       " $('div.input').show();\n",
       " }\n",
       " code_show = !code_show\n",
       "} \n",
       "$( document ).ready(code_toggle);\n",
       "</script>\n",
       "<form action=\"javascript:code_toggle()\"><input type=\"submit\" value=\"Click here to toggle on/off the raw code.\"></form>"
      ],
      "text/plain": [
       "<IPython.core.display.HTML object>"
      ]
     },
     "execution_count": 1,
     "metadata": {},
     "output_type": "execute_result"
    }
   ],
   "source": [
    "from IPython.display import HTML\n",
    "\n",
    "HTML('''<script>\n",
    "code_show=true; \n",
    "function code_toggle() {\n",
    " if (code_show){\n",
    " $('div.input').hide();\n",
    " } else {\n",
    " $('div.input').show();\n",
    " }\n",
    " code_show = !code_show\n",
    "} \n",
    "$( document ).ready(code_toggle);\n",
    "</script>\n",
    "<form action=\"javascript:code_toggle()\"><input type=\"submit\" value=\"Click here to toggle on/off the raw code.\"></form>''')\n",
    "\n"
   ]
  },
  {
   "cell_type": "code",
   "execution_count": 25,
   "id": "least-cologne",
   "metadata": {},
   "outputs": [
    {
     "name": "stdout",
     "output_type": "stream",
     "text": [
      "The autoreload extension is already loaded. To reload it, use:\n",
      "  %reload_ext autoreload\n"
     ]
    }
   ],
   "source": [
    "import os\n",
    "while not os.getcwd().endswith(\"Group Report\"):\n",
    "    os.chdir(\"..\")\n",
    "    \n",
    "# detect changes on folders\n",
    "%load_ext autoreload\n",
    "%autoreload 2\n",
    "\n",
    "import pandas as pd\n",
    "import matplotlib.pyplot as plt\n",
    "import ipywidgets as widgets\n",
    "from ipywidgets import interact, interact_manual"
   ]
  },
  {
   "cell_type": "code",
   "execution_count": 3,
   "id": "continental-korean",
   "metadata": {},
   "outputs": [],
   "source": [
    "from src.data_curation import summary"
   ]
  },
  {
   "cell_type": "markdown",
   "id": "focused-reducing",
   "metadata": {},
   "source": [
    "## 1. [Import Data](#import)\n",
    "<a id=\"import\"></a>"
   ]
  },
  {
   "cell_type": "code",
   "execution_count": 4,
   "id": "pursuant-mexico",
   "metadata": {},
   "outputs": [],
   "source": [
    "df_demo = pd.read_excel('Material/demographic.xlsx')\n",
    "df_demo_numeric_cols = df_demo.select_dtypes(include='number').columns\n",
    "df_demo_object_cols = df_demo.select_dtypes(include='object').columns\n",
    "df_firmo = pd.read_csv('Material/firmographic.csv')\n",
    "df_firmo_numeric_cols = df_firmo.select_dtypes(include='number').columns\n",
    "df_firmo_object_cols = df_firmo.select_dtypes(include='object').columns\n"
   ]
  },
  {
   "cell_type": "code",
   "execution_count": 35,
   "id": "higher-hamburg",
   "metadata": {},
   "outputs": [],
   "source": [
    "df_demo_float_cols = df_demo.select_dtypes(include='float').columns\n",
    "df_demo_int_cols = df_demo.select_dtypes(include='int64').columns\n",
    "df_firmo_float_cols = df_firmo.select_dtypes(include='float').columns\n",
    "df_firmo_int_cols = df_firmo.select_dtypes(include='int64').columns"
   ]
  },
  {
   "cell_type": "code",
   "execution_count": 54,
   "id": "illegal-command",
   "metadata": {},
   "outputs": [],
   "source": [
    "demo_int_object_cols=list(df_demo_int_cols)+list(df_demo_object_cols)\n",
    "demo_int_object_cols.remove(\"Name\")\n",
    "demo_int_object_cols.remove(\"Card_ID\")\n",
    "firmo_int_object_cols=list(df_firmo_int_cols)+list(df_firmo_object_cols)\n",
    "firmo_int_object_cols.remove(\"Card_ID\")"
   ]
  },
  {
   "cell_type": "code",
   "execution_count": 12,
   "id": "conventional-solomon",
   "metadata": {},
   "outputs": [
    {
     "data": {
      "application/vnd.jupyter.widget-view+json": {
       "model_id": "6fa60afddf844dd28e0a8870f43e8404",
       "version_major": 2,
       "version_minor": 0
      },
      "text/plain": [
       "interactive(children=(Dropdown(description='data', options=('demographic', 'firmographic'), value='demographic…"
      ]
     },
     "metadata": {},
     "output_type": "display_data"
    }
   ],
   "source": [
    "@interact\n",
    "def head_df(data=['demographic','firmographic'], n=(1, 20, 1)):\n",
    "    if data == 'demographic':\n",
    "        df = df_demo\n",
    "    else:\n",
    "        df= df_firmo\n",
    "    return df.head(n)"
   ]
  },
  {
   "cell_type": "markdown",
   "id": "rocky-orlando",
   "metadata": {},
   "source": [
    "## 2. [Data Exploration](#explore)\n",
    "<a id=\"explore\"></a>"
   ]
  },
  {
   "cell_type": "code",
   "execution_count": 7,
   "id": "falling-budget",
   "metadata": {},
   "outputs": [
    {
     "data": {
      "application/vnd.jupyter.widget-view+json": {
       "model_id": "7679e01eb3444bc6987c7f44e64dddea",
       "version_major": 2,
       "version_minor": 0
      },
      "text/plain": [
       "interactive(children=(Dropdown(description='data', options=('demographic', 'firmographic'), value='demographic…"
      ]
     },
     "metadata": {},
     "output_type": "display_data"
    }
   ],
   "source": [
    "@interact\n",
    "def databases_summary(data=['demographic','firmographic']):\n",
    "    if data == 'demographic':\n",
    "        df = df_demo\n",
    "    else:\n",
    "        df= df_firmo\n",
    "    return summary(df)"
   ]
  },
  {
   "attachments": {
    "image.png": {
     "image/png": "[encoded data removed]"
    }
   },
   "cell_type": "markdown",
   "id": "chemical-petite",
   "metadata": {},
   "source": [
    "<h3 style=\"color:blue\"> 2.1 Data Model</h3>\n",
    "\n",
    "![image.png](attachment:image.png)"
   ]
  },
  {
   "cell_type": "markdown",
   "id": "capable-commercial",
   "metadata": {},
   "source": [
    "<h3 style=\"color:blue\"> 2.2 Univariate Analysis</h3>\n",
    "\n",
    "<br>\n",
    "\n",
    "<h4 style=\"color:blue\"> 2.2.1 Demographic</h4>\n",
    "\n",
    "##### Float type columns"
   ]
  },
  {
   "cell_type": "code",
   "execution_count": 38,
   "id": "sublime-marina",
   "metadata": {},
   "outputs": [
    {
     "data": {
      "application/vnd.jupyter.widget-view+json": {
       "model_id": "c9ca33e716b3449bac46d3b50258e94b",
       "version_major": 2,
       "version_minor": 0
      },
      "text/plain": [
       "interactive(children=(Dropdown(description='column', options=('Income',), value='Income'), Output()), _dom_cla…"
      ]
     },
     "metadata": {},
     "output_type": "display_data"
    }
   ],
   "source": [
    "@interact\n",
    "def float_cols(column=df_demo_float_cols):\n",
    "    df_demo.boxplot(column=column)\n",
    "    plt.title(column + ' Box plot')\n",
    "    plt.show()\n",
    "    "
   ]
  },
  {
   "cell_type": "markdown",
   "id": "twelve-resistance",
   "metadata": {},
   "source": [
    "##### Integer and object type columns"
   ]
  },
  {
   "cell_type": "code",
   "execution_count": 53,
   "id": "whole-incentive",
   "metadata": {},
   "outputs": [
    {
     "data": {
      "application/vnd.jupyter.widget-view+json": {
       "model_id": "71c85b768e3c40c2adca7a4fec2e7be1",
       "version_major": 2,
       "version_minor": 0
      },
      "text/plain": [
       "interactive(children=(Dropdown(description='column', options=('Year_Birth', 'Kidhome', 'Teenhome', 'Education'…"
      ]
     },
     "metadata": {},
     "output_type": "display_data"
    }
   ],
   "source": [
    "@interact\n",
    "def integer_cols(column=demo_int_object_cols):\n",
    "    aux = column.capitalize()\n",
    "    df_demo[column].value_counts(normalize=True).reset_index().rename(columns={'index':aux,column:'Value Counts'}).plot.bar(x=column.capitalize(),y='Value Counts')\n",
    "    plt.xlabel(column.capitalize())\n",
    "    plt.ylabel('% Occurrences')\n",
    "    plt.title(column.capitalize()+' Bar Chart')\n",
    "    plt.show()"
   ]
  },
  {
   "cell_type": "markdown",
   "id": "living-forwarding",
   "metadata": {},
   "source": [
    "<br>\n",
    "\n",
    "<h4 style=\"color:blue\"> 2.2.2 Firmographic</h4>\n",
    "\n",
    "##### Float type columns"
   ]
  },
  {
   "cell_type": "code",
   "execution_count": 56,
   "id": "sought-memorial",
   "metadata": {},
   "outputs": [
    {
     "data": {
      "application/vnd.jupyter.widget-view+json": {
       "model_id": "b78fc2eede18425399889df2becd80f1",
       "version_major": 2,
       "version_minor": 0
      },
      "text/plain": [
       "interactive(children=(Dropdown(description='column', options=('MntGroceries', 'MntStationery', 'MntHouseKeepin…"
      ]
     },
     "metadata": {},
     "output_type": "display_data"
    }
   ],
   "source": [
    "@interact\n",
    "def float_cols(column=df_firmo_float_cols):\n",
    "    df_firmo.boxplot(column=column)\n",
    "    plt.title(column + ' Box plot')\n",
    "    plt.show()"
   ]
  },
  {
   "cell_type": "markdown",
   "id": "alien-stationery",
   "metadata": {},
   "source": [
    "##### Integer and object type columns"
   ]
  },
  {
   "cell_type": "code",
   "execution_count": 57,
   "id": "north-offering",
   "metadata": {},
   "outputs": [
    {
     "data": {
      "application/vnd.jupyter.widget-view+json": {
       "model_id": "050ba240e9f2401fb003dae2ee1fbebd",
       "version_major": 2,
       "version_minor": 0
      },
      "text/plain": [
       "interactive(children=(Dropdown(description='column', options=('Recency', 'NumDealsPurchases', 'NumWebPurchases…"
      ]
     },
     "metadata": {},
     "output_type": "display_data"
    }
   ],
   "source": [
    "@interact\n",
    "def integer_cols(column=firmo_int_object_cols):\n",
    "    aux = column.capitalize()\n",
    "    df_firmo[column].value_counts(normalize=True).reset_index().rename(columns={'index':aux,column:'Value Counts'}).plot.bar(x=column.capitalize(),y='Value Counts')\n",
    "    plt.xlabel(column.capitalize())\n",
    "    plt.ylabel('% Occurrences')\n",
    "    plt.title(column.capitalize()+' Bar Chart')\n",
    "    plt.show()"
   ]
  }
 ],
 "metadata": {
  "kernelspec": {
   "display_name": "Python 3",
   "language": "python",
   "name": "python3"
  },
  "language_info": {
   "codemirror_mode": {
    "name": "ipython",
    "version": 3
   },
   "file_extension": ".py",
   "mimetype": "text/x-python",
   "name": "python",
   "nbconvert_exporter": "python",
   "pygments_lexer": "ipython3",
   "version": "3.8.5"
  }
 },
 "nbformat": 4,
 "nbformat_minor": 5
}
